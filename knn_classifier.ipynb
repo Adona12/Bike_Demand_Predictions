{
 "cells": [
  {
   "cell_type": "code",
   "execution_count": 96,
   "metadata": {},
   "outputs": [],
   "source": [
    "import pandas as pd\n",
    "from sklearn.neighbors import KNeighborsClassifier\n",
    "from sklearn.metrics import accuracy_score\n",
    "from sklearn.feature_selection import SelectKBest, f_classif\n",
    "from sklearn.model_selection import train_test_split, cross_val_score, GridSearchCV, StratifiedKFold\n",
    "from sklearn.preprocessing import MinMaxScaler, StandardScaler\n",
    "from sklearn.metrics import accuracy_score, f1_score, classification_report\n",
    "\n",
    "# df = pd.read_csv('training_data_fall2024.csv')\n",
    "df = pd.read_csv('modified_training.csv')\n",
    "\n",
    "# Step 1: Split the data into features (X) and target (y)\n",
    "X = df.drop(columns=['increase_stock'])  # Replace 'target' with the actual target column name\n",
    "y = df['increase_stock']\n",
    "random_state = 43"
   ]
  },
  {
   "cell_type": "code",
   "execution_count": null,
   "metadata": {},
   "outputs": [
    {
     "name": "stdout",
     "output_type": "stream",
     "text": [
      "Accuracy of KNN classifier on training set: 1.00\n",
      "Accuracy of KNN classifier on test set: 0.92\n",
      "F1 Score (weighted) on test set: 0.92\n",
      "\n",
      "Classification Report on test set:\n",
      "                  precision    recall  f1-score   support\n",
      "\n",
      "high_bike_demand       0.81      0.74      0.77        58\n",
      " low_bike_demand       0.94      0.96      0.95       262\n",
      "\n",
      "        accuracy                           0.92       320\n",
      "       macro avg       0.88      0.85      0.86       320\n",
      "    weighted avg       0.92      0.92      0.92       320\n",
      "\n",
      "\n",
      "Cross-validation scores (5 folds): [0.8671875  0.84765625 0.84375    0.87109375 0.859375  ]\n",
      "Mean cross-validation score: 0.86\n"
     ]
    }
   ],
   "source": [
    "# Step 2: Split the dataset into training and testing sets (80-20 split)\n",
    "X_train, X_test, y_train, y_test = train_test_split(X, y, test_size=0.2, stratify=y, random_state=random_state)\n",
    "\n",
    "\n",
    "# Step 3.1: Feature Scaling\n",
    "scaler = StandardScaler()\n",
    "X_train = scaler.fit_transform(X_train)\n",
    "X_test = scaler.transform(X_test)\n",
    "\n",
    "# Step 4: Feature Selection using SelectKBest (ANOVA F-test)\n",
    "selector = SelectKBest(f_classif, k=9)  # Select top 9 features based on ANOVA F-test\n",
    "X_train_kbest = selector.fit_transform(X_train, y_train)\n",
    "X_test_kbest = selector.transform(X_test)\n",
    "\n",
    "# Step 5: Initialize the KNN classifier\n",
    "knn = KNeighborsClassifier(n_neighbors=21, weights='distance', metric='minkowski', p=3)\n",
    "knn.fit(X_train_kbest, y_train)\n",
    "\n",
    "# Using the best model from GridSearchCV\n",
    "y_pred = knn.predict(X_test_kbest)\n",
    "\n",
    "# Evaluate the model performance\n",
    "accuracy_test = accuracy_score(y_test, y_pred)  # Accuracy on test set\n",
    "f1 = f1_score(y_test, y_pred, average='weighted')  # F1 score (weighted average for imbalanced classes)\n",
    "\n",
    "# Train accuracy\n",
    "y_train_pred = knn.predict(X_train_kbest)  # Predictions on the training set\n",
    "accuracy_train = accuracy_score(y_train, y_train_pred)  # Accuracy on training set\n",
    "\n",
    "print(f'Accuracy of KNN classifier on training set: {accuracy_train:.2f}')\n",
    "print(f'Accuracy of KNN classifier on test set: {accuracy_test:.2f}')\n",
    "print(f'F1 Score (weighted) on test set: {f1:.2f}')\n",
    "print(\"\\nClassification Report on test set:\")\n",
    "print(classification_report(y_test, y_pred))\n",
    "stratified_kfold = StratifiedKFold(n_splits=5, shuffle=True, random_state=random_state)\n",
    "cv_scores = cross_val_score(knn, X_train, y_train, cv=stratified_kfold)\n",
    "print(f'\\nCross-validation scores (5 folds): {cv_scores}')\n",
    "print(f'Mean cross-validation score: {cv_scores.mean():.2f}')"
   ]
  },
  {
   "cell_type": "code",
   "execution_count": null,
   "metadata": {},
   "outputs": [],
   "source": []
  }
 ],
 "metadata": {
  "kernelspec": {
   "display_name": "iis",
   "language": "python",
   "name": "python3"
  },
  "language_info": {
   "codemirror_mode": {
    "name": "ipython",
    "version": 3
   },
   "file_extension": ".py",
   "mimetype": "text/x-python",
   "name": "python",
   "nbconvert_exporter": "python",
   "pygments_lexer": "ipython3",
   "version": "3.12.7"
  }
 },
 "nbformat": 4,
 "nbformat_minor": 2
}
