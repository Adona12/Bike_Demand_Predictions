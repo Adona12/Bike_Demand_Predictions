{
  "nbformat": 4,
  "nbformat_minor": 0,
  "metadata": {
    "colab": {
      "provenance": []
    },
    "kernelspec": {
      "name": "python3",
      "display_name": "Python 3"
    },
    "language_info": {
      "name": "python"
    }
  },
  "cells": [
    {
      "cell_type": "code",
      "execution_count": 3,
      "metadata": {
        "colab": {
          "base_uri": "https://localhost:8080/"
        },
        "id": "gHzkF5Nu5neK",
        "outputId": "4723edab-3ef8-4ce5-8d47-78bded35d971"
      },
      "outputs": [
        {
          "output_type": "stream",
          "name": "stdout",
          "text": [
            "Confusion Matrix:\n",
            " [[254   8]\n",
            " [ 18  40]]\n",
            "Classification Report:\n",
            "               precision    recall  f1-score   support\n",
            "\n",
            "           0       0.93      0.97      0.95       262\n",
            "           1       0.83      0.69      0.75        58\n",
            "\n",
            "    accuracy                           0.92       320\n",
            "   macro avg       0.88      0.83      0.85       320\n",
            "weighted avg       0.92      0.92      0.92       320\n",
            "\n",
            "Accuracy Score: 0.91875\n",
            "F1 Score: 0.7547169811320755\n",
            "Fitting 3 folds for each of 100 candidates, totalling 300 fits\n",
            "Best Parameters from Random Search: {'subsample': 1.0, 'n_estimators': 50, 'min_child_weight': 2, 'max_depth': 5, 'learning_rate': 0.1, 'gamma': 0.5, 'colsample_bytree': 0.8}\n",
            "Confusion Matrix:\n",
            " [[257   5]\n",
            " [ 13  45]]\n",
            "Classification Report:\n",
            "               precision    recall  f1-score   support\n",
            "\n",
            "           0       0.95      0.98      0.97       262\n",
            "           1       0.90      0.78      0.83        58\n",
            "\n",
            "    accuracy                           0.94       320\n",
            "   macro avg       0.93      0.88      0.90       320\n",
            "weighted avg       0.94      0.94      0.94       320\n",
            "\n",
            "Accuracy Score: 0.94375\n",
            "F1 Score: 0.8333333333333334\n"
          ]
        }
      ],
      "source": [
        "import pandas as pd\n",
        "import numpy as np\n",
        "from sklearn.model_selection import train_test_split, GridSearchCV, RandomizedSearchCV\n",
        "from sklearn.metrics import classification_report, confusion_matrix, accuracy_score, f1_score\n",
        "from xgboost import XGBClassifier\n",
        "\n",
        "data = pd.read_csv(\"modified_training.csv\")\n",
        "\n",
        "X = data.drop(columns=[\"increase_stock\"])\n",
        "y = data[\"increase_stock\"]\n",
        "\n",
        "y = y.map({\"low_bike_demand\": 0, \"high_bike_demand\": 1})\n",
        "\n",
        "X_train, X_val, y_train, y_val = train_test_split(X, y, test_size=0.2, random_state=42, stratify=y)\n",
        "\n",
        "xgb = XGBClassifier(eval_metric=\"logloss\", random_state=42)\n",
        "\n",
        "xgb.fit(X_train, y_train)\n",
        "\n",
        "y_pred = xgb.predict(X_val)\n",
        "\n",
        "print(\"Confusion Matrix:\\n\", confusion_matrix(y_val, y_pred))\n",
        "print(\"Classification Report:\\n\", classification_report(y_val, y_pred))\n",
        "print(\"Accuracy Score:\", accuracy_score(y_val, y_pred))\n",
        "print(\"F1 Score:\", f1_score(y_val, y_pred))\n",
        "\n",
        "param_grid = {\n",
        "    \"n_estimators\": [50, 100, 200, 300],\n",
        "    \"learning_rate\": [0.01, 0.05, 0.1, 0.2],\n",
        "    \"max_depth\": [3, 5, 7, 9, 11],\n",
        "    \"min_child_weight\": [1, 2, 3],\n",
        "    \"subsample\": [0.5, 0.7, 0.8, 1.0],\n",
        "    \"colsample_bytree\": [0.5, 0.7, 0.8, 1.0],\n",
        "    \"gamma\": [0, 0.1, 0.5, 1]\n",
        "}\n",
        "\n",
        "random_search = RandomizedSearchCV(\n",
        "    estimator=xgb,\n",
        "    param_distributions=param_grid,\n",
        "    n_iter=100,\n",
        "    scoring='f1',\n",
        "    cv=3,\n",
        "    verbose=2,\n",
        "    n_jobs=-1,\n",
        "    random_state=42\n",
        ")\n",
        "\n",
        "random_search.fit(X_train, y_train)\n",
        "\n",
        "print(\"Best Parameters from Random Search:\", random_search.best_params_)\n",
        "\n",
        "best_xgb = random_search.best_estimator_\n",
        "\n",
        "y_pred = best_xgb.predict(X_val)\n",
        "\n",
        "print(\"Confusion Matrix:\\n\", confusion_matrix(y_val, y_pred))\n",
        "print(\"Classification Report:\\n\", classification_report(y_val, y_pred))\n",
        "print(\"Accuracy Score:\", accuracy_score(y_val, y_pred))\n",
        "print(\"F1 Score:\", f1_score(y_val, y_pred))"
      ]
    }
  ]
}